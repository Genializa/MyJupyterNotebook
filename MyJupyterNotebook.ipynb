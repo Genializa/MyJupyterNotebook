{
 "cells": [
  {
   "cell_type": "markdown",
   "id": "542b43c8-f213-4d3e-b6f6-0fa7c66ab3a6",
   "metadata": {},
   "source": [
    "# My Jupyter Notebook on IBM Watson Studio"
   ]
  },
  {
   "cell_type": "markdown",
   "id": "94dd9ce9-8988-4cba-b13a-a663e44a8ce7",
   "metadata": {},
   "source": [
    "**Maria Elizabeth Cabecudo Cruz**\n",
    "Content Creator and Copywriter"
   ]
  },
  {
   "cell_type": "markdown",
   "id": "3d65892f-f528-45f4-8cfa-204ebc092008",
   "metadata": {},
   "source": [
    "*I am interested in data science because I want to change my professional career and I think data is very important in this days, so I want to understand y analyze what we can do with all the data that is currently available.*"
   ]
  },
  {
   "cell_type": "markdown",
   "id": "7f03e892-bb9a-439c-9fce-c6ae71b54c56",
   "metadata": {},
   "source": [
    "### let's add two plus two"
   ]
  },
  {
   "cell_type": "code",
   "execution_count": 2,
   "id": "7896df60-e8c4-4142-9c14-87ddb1377dec",
   "metadata": {},
   "outputs": [
    {
     "data": {
      "text/plain": [
       "4"
      ]
     },
     "execution_count": 2,
     "metadata": {},
     "output_type": "execute_result"
    }
   ],
   "source": [
    "2+2"
   ]
  },
  {
   "cell_type": "markdown",
   "id": "910cdf74-83f8-4810-a50a-0df6e705dbf5",
   "metadata": {},
   "source": [
    "* hello\n",
    "* how are you?\n",
    "\n",
    ">I'm doing blocked quotes. Do you like it?\n",
    "\n",
    "![img](https://depor.com/resizer/AEDPCIa68nV5_87gwPgCAKy_pPE=/1200x800/smart/filters:format(jpeg):quality(75)/cloudfront-us-east-1.images.arcpublishing.com/elcomercio/QDMBIPYV2RHO7HUPBURBXPK3NA.jpg)\n"
   ]
  }
 ],
 "metadata": {
  "kernelspec": {
   "display_name": "Python",
   "language": "python",
   "name": "conda-env-python-py"
  },
  "language_info": {
   "codemirror_mode": {
    "name": "ipython",
    "version": 3
   },
   "file_extension": ".py",
   "mimetype": "text/x-python",
   "name": "python",
   "nbconvert_exporter": "python",
   "pygments_lexer": "ipython3",
   "version": "3.7.12"
  }
 },
 "nbformat": 4,
 "nbformat_minor": 5
}
